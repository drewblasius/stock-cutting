{
 "cells": [
  {
   "cell_type": "code",
   "execution_count": 1,
   "id": "2947d6f5",
   "metadata": {},
   "outputs": [],
   "source": [
    "import math\n",
    "import numpy as np\n",
    "import pandas as pd\n",
    "import ortools\n",
    "import itertools\n",
    "\n",
    "from typing import Generator, List, Tuple"
   ]
  },
  {
   "cell_type": "code",
   "execution_count": 2,
   "id": "c569909f",
   "metadata": {},
   "outputs": [],
   "source": [
    "# look at all possible cut assignments that result in the needed quantities\n",
    "#   minimize over all of the cut assignments\n",
    "from ortools.sat.python import cp_model\n",
    "from ortools.linear_solver import pywraplp\n"
   ]
  },
  {
   "cell_type": "code",
   "execution_count": 69,
   "id": "35602e8b",
   "metadata": {},
   "outputs": [],
   "source": [
    "fn = \"./#5 Consolidated.csv\""
   ]
  },
  {
   "cell_type": "code",
   "execution_count": 70,
   "id": "fce8c9f7",
   "metadata": {},
   "outputs": [],
   "source": [
    "df = pd.read_csv(fn, header=None)\n",
    "df.columns = [\"length\", \"quantity\"]\n",
    "\n",
    "base_length = 240\n",
    "waste_tolerance = 0\n",
    "desired_efficiency_stopping_point = None  #.95 # one can set this to instruct the solver to stop after a certain efficiency is reached\n",
    "\n",
    "exact_cuts = df[df[\"length\"] == base_length].copy()\n",
    "\n",
    "# df = df[df[\"length\"] < base_length]\n",
    "needed_lengths = df[\"length\"].values\n",
    "needed_quantities = df[\"quantity\"].values\n",
    "\n",
    "# We expect to be allowed to make cuts\n",
    "# \n",
    "# allowed_cuts = [\n",
    "#   (3,), (3, 3,), (3, 3, 3,), (3, 5,), (5,), (5, 3,), (5, 5,), (8,),\n",
    "# ]"
   ]
  },
  {
   "cell_type": "code",
   "execution_count": 71,
   "id": "4533e777",
   "metadata": {},
   "outputs": [
    {
     "data": {
      "text/plain": [
       "9"
      ]
     },
     "execution_count": 71,
     "metadata": {},
     "output_type": "execute_result"
    }
   ],
   "source": [
    "len(df)"
   ]
  },
  {
   "cell_type": "code",
   "execution_count": 72,
   "id": "56636ee4",
   "metadata": {},
   "outputs": [
    {
     "data": {
      "text/plain": [
       "146"
      ]
     },
     "execution_count": 72,
     "metadata": {},
     "output_type": "execute_result"
    }
   ],
   "source": [
    "df[\"quantity\"].sum()"
   ]
  },
  {
   "cell_type": "code",
   "execution_count": 73,
   "id": "c50f3917",
   "metadata": {},
   "outputs": [
    {
     "data": {
      "text/html": [
       "<div>\n",
       "<style scoped>\n",
       "    .dataframe tbody tr th:only-of-type {\n",
       "        vertical-align: middle;\n",
       "    }\n",
       "\n",
       "    .dataframe tbody tr th {\n",
       "        vertical-align: top;\n",
       "    }\n",
       "\n",
       "    .dataframe thead th {\n",
       "        text-align: right;\n",
       "    }\n",
       "</style>\n",
       "<table border=\"1\" class=\"dataframe\">\n",
       "  <thead>\n",
       "    <tr style=\"text-align: right;\">\n",
       "      <th></th>\n",
       "      <th>length</th>\n",
       "      <th>quantity</th>\n",
       "    </tr>\n",
       "  </thead>\n",
       "  <tbody>\n",
       "    <tr>\n",
       "      <th>6</th>\n",
       "      <td>184</td>\n",
       "      <td>4</td>\n",
       "    </tr>\n",
       "    <tr>\n",
       "      <th>7</th>\n",
       "      <td>148</td>\n",
       "      <td>4</td>\n",
       "    </tr>\n",
       "    <tr>\n",
       "      <th>5</th>\n",
       "      <td>127</td>\n",
       "      <td>30</td>\n",
       "    </tr>\n",
       "    <tr>\n",
       "      <th>4</th>\n",
       "      <td>108</td>\n",
       "      <td>26</td>\n",
       "    </tr>\n",
       "    <tr>\n",
       "      <th>8</th>\n",
       "      <td>103</td>\n",
       "      <td>4</td>\n",
       "    </tr>\n",
       "    <tr>\n",
       "      <th>3</th>\n",
       "      <td>96</td>\n",
       "      <td>8</td>\n",
       "    </tr>\n",
       "    <tr>\n",
       "      <th>2</th>\n",
       "      <td>69</td>\n",
       "      <td>26</td>\n",
       "    </tr>\n",
       "    <tr>\n",
       "      <th>1</th>\n",
       "      <td>66</td>\n",
       "      <td>18</td>\n",
       "    </tr>\n",
       "    <tr>\n",
       "      <th>0</th>\n",
       "      <td>45</td>\n",
       "      <td>26</td>\n",
       "    </tr>\n",
       "  </tbody>\n",
       "</table>\n",
       "</div>"
      ],
      "text/plain": [
       "   length  quantity\n",
       "6     184         4\n",
       "7     148         4\n",
       "5     127        30\n",
       "4     108        26\n",
       "8     103         4\n",
       "3      96         8\n",
       "2      69        26\n",
       "1      66        18\n",
       "0      45        26"
      ]
     },
     "execution_count": 73,
     "metadata": {},
     "output_type": "execute_result"
    }
   ],
   "source": [
    "df.sort_values(\"length\", ascending=False)"
   ]
  },
  {
   "cell_type": "code",
   "execution_count": 74,
   "id": "d9ad0005",
   "metadata": {},
   "outputs": [],
   "source": [
    "lengths_to_quantities = {\n",
    "    r[\"length\"]: r[\"quantity\"] for _, r in df.iterrows()\n",
    "}\n",
    "total_length_to_produce = sum(\n",
    "    l * q for l, q in zip(needed_lengths, needed_quantities)\n",
    ")"
   ]
  },
  {
   "cell_type": "markdown",
   "id": "6601020e",
   "metadata": {},
   "source": [
    "The naive method of candidate generation that we have used before seems to scale very poorly with the number of inputs (exponentially, as we iterate over all combinations).\n",
    "\n",
    "We should probably use a heuristic to build them. But first we will need to re-frame the problem a bit.\n",
    "\n",
    "Let $c_1 = (x_1, \\ldots, x_p), c_2 = (y_1, \\ldots, y_q)$ be two cuts with $c_1 \\neq c_2$. We can define the _multiplicity function_ $N(c, l)$ which counts the number of times length $l$ appears in cut $c$. We shall say that $c_2$ _dominates_ $c_1$ if for all lengths $l$, $N(c_2, l) \\geq N(c_1, l)$. This effectively means that $c_2$ contains all of the segments that would be produced by $c_1$. \n",
    "\n",
    "If we frame our problem so that we only consider cuts which are dominated by no other cuts, then we will be able to run our solver and modify the way that we measure waste. The hope is that we are able to greatly reduce the number of candidates that we generate in this manner."
   ]
  },
  {
   "cell_type": "code",
   "execution_count": 75,
   "id": "9ecf375e",
   "metadata": {},
   "outputs": [],
   "source": [
    "def _is_sorted(x):\n",
    "    return sorted(x) == x\n",
    "\n",
    "def _generate_non_dominated_cuts(\n",
    "    cut: List[float], \n",
    "    needed_lengths: List[float], \n",
    "    length_remaining: float, \n",
    "    tolerance_per_cut: float,\n",
    "):  \n",
    "    \n",
    "    if not _is_sorted(cut):\n",
    "        return\n",
    "    \n",
    "    if length_remaining < min(needed_lengths):\n",
    "        yield cut\n",
    "    \n",
    "    for length in needed_lengths:\n",
    "        excess = length_remaining - length - tolerance_per_cut\n",
    "        if excess >= 0 or not cut:\n",
    "            yield from _generate_non_dominated_cuts(\n",
    "                cut + [length], \n",
    "                needed_lengths, \n",
    "                excess, \n",
    "                tolerance_per_cut=tolerance_per_cut,\n",
    "            )\n",
    "            \n",
    "def get_possible_cuts(needed_lengths: List[float], base_length: float, tolerance_per_cut: float = 0):\n",
    "    assert max(needed_lengths) <= base_length\n",
    "    \n",
    "    return (\n",
    "        tuple(x)\n",
    "            for x in _generate_non_dominated_cuts(\n",
    "                [], \n",
    "                needed_lengths, \n",
    "                length_remaining=base_length,\n",
    "                tolerance_per_cut=tolerance_per_cut,\n",
    "            )\n",
    "    )"
   ]
  },
  {
   "cell_type": "code",
   "execution_count": 91,
   "id": "ef87abe9",
   "metadata": {},
   "outputs": [],
   "source": [
    "possible_cuts = list(get_possible_cuts(needed_lengths, base_length, tolerance_per_cut=0.125))"
   ]
  },
  {
   "cell_type": "code",
   "execution_count": 92,
   "id": "d701494a",
   "metadata": {},
   "outputs": [
    {
     "data": {
      "text/plain": [
       "40"
      ]
     },
     "execution_count": 92,
     "metadata": {},
     "output_type": "execute_result"
    }
   ],
   "source": [
    "len(possible_cuts)"
   ]
  },
  {
   "cell_type": "code",
   "execution_count": 93,
   "id": "c1d43f11",
   "metadata": {},
   "outputs": [],
   "source": [
    "cut_produced_quantities = {}\n",
    "for i, cut in enumerate(possible_cuts):\n",
    "    for j, length in enumerate(needed_lengths):\n",
    "        cut_produced_quantities[i, j] = cut.count(length)"
   ]
  },
  {
   "cell_type": "markdown",
   "id": "22283804",
   "metadata": {},
   "source": [
    "Here, we define our optimality slightly differently.\n",
    "\n",
    "We permit the solver to find solutions in which we overproduce (as now that we consider only dominant cuts, we can't restrict to equality, as it may not be feasible).\n",
    "\n",
    "Thus, the new way we're itemizing waste is to sum:\n",
    "\n",
    "* All excess length produced by unneeded cuts\n",
    "* All waste unavoidable to the cuts (as in cut wastes).\n",
    "\n",
    "We will also come up with a smarter bound for how many times a cut is needed. For every cut, we know the multiplicity of lengths produced from the multiplicity function. Let $q(l)$ be the quantity of pieces of length $l$ needed. We can always bound by\n",
    "\n",
    "$$\n",
    "max_{l} \\left\\lbrace \\left\\lceil\\frac{q(l)}{N(c, l)}\\right\\rceil : N(c, l) > 0 \\right\\rbrace\n",
    "$$"
   ]
  },
  {
   "cell_type": "code",
   "execution_count": 94,
   "id": "f8601dc4",
   "metadata": {},
   "outputs": [
    {
     "name": "stdout",
     "output_type": "stream",
     "text": [
      "minimizing total waste produced by cutting process\n"
     ]
    }
   ],
   "source": [
    "model = pywraplp.Solver.CreateSolver('SCIP') # cp_model.CpModel()\n",
    "naive_max_cuts = max(needed_quantities)\n",
    "\n",
    "cut_vars = {}\n",
    "for i, cut in enumerate(possible_cuts):\n",
    "    max_needed = max(\n",
    "        math.ceil(lengths_to_quantities[length] / cut_produced_quantities[i, j])\n",
    "            for j, length in enumerate(needed_lengths) if cut_produced_quantities[i, j] > 0\n",
    "    )\n",
    "    cut_vars[i] = model.IntVar(0, max_needed, f\"Cut according to rule {cut}\")\n",
    "\n",
    "cut_wastes = {}\n",
    "for i, cut in enumerate(possible_cuts):\n",
    "    cut_wastes[i] = base_length - sum(cut)\n",
    "\n",
    "segments_produced = {}\n",
    "for (j, length), needed in zip(enumerate(needed_lengths), needed_quantities): \n",
    "    for i, cut in enumerate(possible_cuts):\n",
    "        segments_produced[i, j] = cut_vars[i] * cut_produced_quantities[i, j]  \n",
    "\n",
    "# assert that we produce at least as much as we need\n",
    "for (j, length), needed in zip(enumerate(needed_lengths), needed_quantities):\n",
    "    total_produced = sum(\n",
    "        segments_produced[i, j] for i, _ in enumerate(possible_cuts)\n",
    "    )\n",
    "    model.Add(total_produced >= needed)\n",
    "\n",
    "# measure the amount of waste that we produced\n",
    "total_excess = []\n",
    "for (j, length), needed in zip(enumerate(needed_lengths), needed_quantities):\n",
    "    produced = sum(\n",
    "        segments_produced[i, j] for i, _ in enumerate(possible_cuts)\n",
    "    )\n",
    "    total_excess.append((produced - needed) * length)\n",
    "total_excess = sum(total_excess)\n",
    "\n",
    "unavoidable_waste = sum(\n",
    "    var * cut_wastes[i] for i, var in cut_vars.items()\n",
    ")\n",
    "\n",
    "total_waste = unavoidable_waste + total_excess\n",
    "\n",
    "if desired_efficiency_stopping_point is not None:\n",
    "    print(f\"setting solver to stop if efficiency of {desired_efficiency_stopping_point*100:.2f}% is reached.\")    \n",
    "    model.Add(\n",
    "        total_waste\n",
    "            <= int((1 - desired_efficiency_stopping_point) * total_length_to_produce)\n",
    "    )\n",
    "else:\n",
    "    print(f\"minimizing total waste produced by cutting process\")\n",
    "    model.Minimize(total_waste)"
   ]
  },
  {
   "cell_type": "code",
   "execution_count": 95,
   "id": "157eed53",
   "metadata": {},
   "outputs": [
    {
     "name": "stdout",
     "output_type": "stream",
     "text": [
      "solver found optimal solution\n"
     ]
    }
   ],
   "source": [
    "status = model.Solve()\n",
    "if status == model.OPTIMAL:\n",
    "    print(\"solver found optimal solution\")\n",
    "else: \n",
    "    raise ValueError(\"no guarantee of solution optimality\")"
   ]
  },
  {
   "cell_type": "code",
   "execution_count": 96,
   "id": "07293c6d",
   "metadata": {},
   "outputs": [],
   "source": [
    "solution_df = []\n",
    "for i, var in cut_vars.items():\n",
    "    solution_df.append(\n",
    "        {\n",
    "            \"cut\": possible_cuts[i],\n",
    "            \"cut_idx\": i,\n",
    "            # \"number\": solver.Value(var),\n",
    "            \"number\": var.solution_value(),\n",
    "        }\n",
    "    )\n",
    "\n",
    "solution_df = pd.DataFrame(solution_df)\n",
    "solution_df[\"waste\"] = solution_df[\"cut_idx\"].apply(cut_wastes.get)\n",
    "solution_df[\"total_waste\"] = solution_df[\"waste\"] * solution_df[\"number\"]"
   ]
  },
  {
   "cell_type": "code",
   "execution_count": 97,
   "id": "da5f1ee4",
   "metadata": {},
   "outputs": [],
   "source": [
    "confirmed_counts = {}\n",
    "# confirm that we didn't fuck it\n",
    "for i, var in cut_vars.items():\n",
    "    for j, length in enumerate(needed_lengths):\n",
    "        # confirmed_counts[length] = confirmed_counts.get(length, 0) + cut_produced_quantities[i, j] * solver.Value(var)\n",
    "        confirmed_counts[length] = confirmed_counts.get(length, 0) + cut_produced_quantities[i, j] * var.solution_value()\n",
    "        \n",
    "confirmed_counts_df = pd.DataFrame(\n",
    "    [{\"length\": length, \"quantity\": quantity} for length, quantity in confirmed_counts.items()]\n",
    ")"
   ]
  },
  {
   "cell_type": "code",
   "execution_count": 98,
   "id": "f2e26ecf",
   "metadata": {},
   "outputs": [],
   "source": [
    "confirmatory_df = df.merge(\n",
    "    confirmed_counts_df,\n",
    "    how=\"left\",\n",
    "    on=\"length\",\n",
    "    suffixes=[\"\", \"_produced_by_algorithm\"],\n",
    ")\n",
    "\n",
    "assert (confirmatory_df[\"quantity\"] <= confirmatory_df[\"quantity_produced_by_algorithm\"]).all()"
   ]
  },
  {
   "cell_type": "code",
   "execution_count": 99,
   "id": "3114365e",
   "metadata": {},
   "outputs": [],
   "source": [
    "confirmatory_df[\"excess_quantity_produced\"] = (\n",
    "    confirmatory_df[\"quantity_produced_by_algorithm\"] - confirmatory_df[\"quantity\"]\n",
    ")\n",
    "confirmatory_df[\"excess_length_produced\"] = (\n",
    "    confirmatory_df[\"excess_quantity_produced\"] * confirmatory_df[\"length\"]\n",
    ")"
   ]
  },
  {
   "cell_type": "code",
   "execution_count": 100,
   "id": "f1ba724c",
   "metadata": {},
   "outputs": [],
   "source": [
    "total_waste = solution_df[\"total_waste\"].sum() + confirmatory_df[\"excess_length_produced\"].sum()\n",
    "total_length_needed = np.sum(df[\"length\"] * df[\"quantity\"])"
   ]
  },
  {
   "cell_type": "code",
   "execution_count": 101,
   "id": "1964096c",
   "metadata": {},
   "outputs": [
    {
     "data": {
      "text/plain": [
       "402.0"
      ]
     },
     "execution_count": 101,
     "metadata": {},
     "output_type": "execute_result"
    }
   ],
   "source": [
    "total_waste"
   ]
  },
  {
   "cell_type": "code",
   "execution_count": 102,
   "id": "b5a90e0d",
   "metadata": {},
   "outputs": [
    {
     "data": {
      "text/plain": [
       "57.0"
      ]
     },
     "execution_count": 102,
     "metadata": {},
     "output_type": "execute_result"
    }
   ],
   "source": [
    "solution_df[\"number\"].sum()"
   ]
  },
  {
   "cell_type": "code",
   "execution_count": 103,
   "id": "01456fce",
   "metadata": {},
   "outputs": [],
   "source": [
    "efficiency = 1 - total_waste / total_length_needed"
   ]
  },
  {
   "cell_type": "code",
   "execution_count": 104,
   "id": "70ca2685",
   "metadata": {},
   "outputs": [
    {
     "name": "stdout",
     "output_type": "stream",
     "text": [
      "We are 96.97% efficient\n"
     ]
    }
   ],
   "source": [
    "print(f\"We are {efficiency *100:.2f}% efficient\")"
   ]
  },
  {
   "cell_type": "code",
   "execution_count": 105,
   "id": "10d59e1c",
   "metadata": {},
   "outputs": [],
   "source": [
    "# Let's model this using a simple heuristic"
   ]
  },
  {
   "cell_type": "code",
   "execution_count": 106,
   "id": "db9ce9d0",
   "metadata": {},
   "outputs": [],
   "source": [
    "solved_fn = fn.replace(\".csv\", \"-solved.csv\")"
   ]
  },
  {
   "cell_type": "code",
   "execution_count": 107,
   "id": "37d9f746",
   "metadata": {},
   "outputs": [
    {
     "name": "stdout",
     "output_type": "stream",
     "text": [
      "wrote to ./#4 Consolidated-solved.csv\n"
     ]
    }
   ],
   "source": [
    "solution_df.to_csv(solved_fn)\n",
    "print(f\"wrote to {solved_fn}\")"
   ]
  },
  {
   "cell_type": "code",
   "execution_count": null,
   "id": "d0027f4d",
   "metadata": {},
   "outputs": [],
   "source": []
  }
 ],
 "metadata": {
  "kernelspec": {
   "display_name": "Python 3 (ipykernel)",
   "language": "python",
   "name": "python3"
  },
  "language_info": {
   "codemirror_mode": {
    "name": "ipython",
    "version": 3
   },
   "file_extension": ".py",
   "mimetype": "text/x-python",
   "name": "python",
   "nbconvert_exporter": "python",
   "pygments_lexer": "ipython3",
   "version": "3.9.12"
  }
 },
 "nbformat": 4,
 "nbformat_minor": 5
}
