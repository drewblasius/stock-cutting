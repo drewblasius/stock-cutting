{
 "cells": [
  {
   "cell_type": "code",
   "execution_count": 1,
   "id": "2947d6f5",
   "metadata": {},
   "outputs": [],
   "source": [
    "import math\n",
    "import numpy as np\n",
    "import pandas as pd\n",
    "import ortools\n",
    "import itertools\n",
    "\n",
    "from typing import Generator, List, Tuple"
   ]
  },
  {
   "cell_type": "code",
   "execution_count": 2,
   "id": "c569909f",
   "metadata": {},
   "outputs": [],
   "source": [
    "# look at all possible cut assignments that result in the needed quantities\n",
    "#   minimize over all of the cut assignments\n",
    "from ortools.sat.python import cp_model\n"
   ]
  },
  {
   "cell_type": "code",
   "execution_count": 3,
   "id": "fce8c9f7",
   "metadata": {},
   "outputs": [],
   "source": [
    "df = pd.read_csv(\"./#5 Consolidated.csv\", header=None)\n",
    "df.columns = [\"length\", \"quantity\"]\n",
    "\n",
    "base_length = 240\n",
    "waste_tolerance = 0\n",
    "\n",
    "exact_cuts = df[df[\"length\"] == base_length].copy()\n",
    "\n",
    "# df = df[df[\"length\"] < base_length]\n",
    "needed_lengths = df[\"length\"].values\n",
    "needed_quantities = df[\"quantity\"].values\n",
    "\n",
    "\n",
    "# We expect to be allowed to make cuts\n",
    "# \n",
    "# allowed_cuts = [\n",
    "#   (3,), (3, 3,), (3, 3, 3,), (3, 5,), (5,), (5, 3,), (5, 5,), (8,),\n",
    "# ]"
   ]
  },
  {
   "cell_type": "code",
   "execution_count": 4,
   "id": "4533e777",
   "metadata": {},
   "outputs": [
    {
     "data": {
      "text/plain": [
       "19"
      ]
     },
     "execution_count": 4,
     "metadata": {},
     "output_type": "execute_result"
    }
   ],
   "source": [
    "len(df)"
   ]
  },
  {
   "cell_type": "code",
   "execution_count": 5,
   "id": "56636ee4",
   "metadata": {},
   "outputs": [
    {
     "data": {
      "text/plain": [
       "976"
      ]
     },
     "execution_count": 5,
     "metadata": {},
     "output_type": "execute_result"
    }
   ],
   "source": [
    "df[\"quantity\"].sum()"
   ]
  },
  {
   "cell_type": "code",
   "execution_count": 6,
   "id": "c50f3917",
   "metadata": {},
   "outputs": [
    {
     "data": {
      "text/html": [
       "<div>\n",
       "<style scoped>\n",
       "    .dataframe tbody tr th:only-of-type {\n",
       "        vertical-align: middle;\n",
       "    }\n",
       "\n",
       "    .dataframe tbody tr th {\n",
       "        vertical-align: top;\n",
       "    }\n",
       "\n",
       "    .dataframe thead th {\n",
       "        text-align: right;\n",
       "    }\n",
       "</style>\n",
       "<table border=\"1\" class=\"dataframe\">\n",
       "  <thead>\n",
       "    <tr style=\"text-align: right;\">\n",
       "      <th></th>\n",
       "      <th>length</th>\n",
       "      <th>quantity</th>\n",
       "    </tr>\n",
       "  </thead>\n",
       "  <tbody>\n",
       "    <tr>\n",
       "      <th>7</th>\n",
       "      <td>240</td>\n",
       "      <td>232</td>\n",
       "    </tr>\n",
       "    <tr>\n",
       "      <th>13</th>\n",
       "      <td>184</td>\n",
       "      <td>6</td>\n",
       "    </tr>\n",
       "    <tr>\n",
       "      <th>11</th>\n",
       "      <td>168</td>\n",
       "      <td>16</td>\n",
       "    </tr>\n",
       "    <tr>\n",
       "      <th>12</th>\n",
       "      <td>162</td>\n",
       "      <td>8</td>\n",
       "    </tr>\n",
       "    <tr>\n",
       "      <th>14</th>\n",
       "      <td>148</td>\n",
       "      <td>6</td>\n",
       "    </tr>\n",
       "    <tr>\n",
       "      <th>10</th>\n",
       "      <td>132</td>\n",
       "      <td>88</td>\n",
       "    </tr>\n",
       "    <tr>\n",
       "      <th>6</th>\n",
       "      <td>127</td>\n",
       "      <td>45</td>\n",
       "    </tr>\n",
       "    <tr>\n",
       "      <th>5</th>\n",
       "      <td>120</td>\n",
       "      <td>48</td>\n",
       "    </tr>\n",
       "    <tr>\n",
       "      <th>8</th>\n",
       "      <td>116</td>\n",
       "      <td>8</td>\n",
       "    </tr>\n",
       "    <tr>\n",
       "      <th>17</th>\n",
       "      <td>108</td>\n",
       "      <td>16</td>\n",
       "    </tr>\n",
       "    <tr>\n",
       "      <th>15</th>\n",
       "      <td>103</td>\n",
       "      <td>2</td>\n",
       "    </tr>\n",
       "    <tr>\n",
       "      <th>4</th>\n",
       "      <td>96</td>\n",
       "      <td>4</td>\n",
       "    </tr>\n",
       "    <tr>\n",
       "      <th>3</th>\n",
       "      <td>80</td>\n",
       "      <td>23</td>\n",
       "    </tr>\n",
       "    <tr>\n",
       "      <th>2</th>\n",
       "      <td>69</td>\n",
       "      <td>33</td>\n",
       "    </tr>\n",
       "    <tr>\n",
       "      <th>1</th>\n",
       "      <td>66</td>\n",
       "      <td>143</td>\n",
       "    </tr>\n",
       "    <tr>\n",
       "      <th>16</th>\n",
       "      <td>64</td>\n",
       "      <td>4</td>\n",
       "    </tr>\n",
       "    <tr>\n",
       "      <th>9</th>\n",
       "      <td>54</td>\n",
       "      <td>8</td>\n",
       "    </tr>\n",
       "    <tr>\n",
       "      <th>18</th>\n",
       "      <td>45</td>\n",
       "      <td>16</td>\n",
       "    </tr>\n",
       "    <tr>\n",
       "      <th>0</th>\n",
       "      <td>30</td>\n",
       "      <td>270</td>\n",
       "    </tr>\n",
       "  </tbody>\n",
       "</table>\n",
       "</div>"
      ],
      "text/plain": [
       "    length  quantity\n",
       "7      240       232\n",
       "13     184         6\n",
       "11     168        16\n",
       "12     162         8\n",
       "14     148         6\n",
       "10     132        88\n",
       "6      127        45\n",
       "5      120        48\n",
       "8      116         8\n",
       "17     108        16\n",
       "15     103         2\n",
       "4       96         4\n",
       "3       80        23\n",
       "2       69        33\n",
       "1       66       143\n",
       "16      64         4\n",
       "9       54         8\n",
       "18      45        16\n",
       "0       30       270"
      ]
     },
     "execution_count": 6,
     "metadata": {},
     "output_type": "execute_result"
    }
   ],
   "source": [
    "df.sort_values(\"length\", ascending=False)"
   ]
  },
  {
   "cell_type": "code",
   "execution_count": 7,
   "id": "a11151ac",
   "metadata": {},
   "outputs": [],
   "source": [
    "def get_possible_cuts(needed_lengths: List[int], base_length: int, tolerance_per_cut: float = 0) -> Generator:\n",
    "    \n",
    "    # Establish a bound on the number of combinations that we need\n",
    "    max_combinations = math.floor(base_length / min(needed_lengths))\n",
    "\n",
    "    for i in range(1, max_combinations + 1):\n",
    "        for comb in itertools.combinations_with_replacement(needed_lengths, i):\n",
    "            waste = len(comb) * tolerance_per_cut\n",
    "            if len(comb) == 1 and comb[0] == base_length:\n",
    "                yield comb\n",
    "                continue\n",
    "                \n",
    "            if sum(comb) <= base_length - waste:\n",
    "                yield comb"
   ]
  },
  {
   "cell_type": "code",
   "execution_count": 8,
   "id": "ef87abe9",
   "metadata": {},
   "outputs": [],
   "source": [
    "possible_cuts = list(\n",
    "    get_possible_cuts(needed_lengths, base_length, tolerance_per_cut=.125)\n",
    ")"
   ]
  },
  {
   "cell_type": "code",
   "execution_count": 9,
   "id": "b483be1d",
   "metadata": {},
   "outputs": [
    {
     "data": {
      "text/plain": [
       "584"
      ]
     },
     "execution_count": 9,
     "metadata": {},
     "output_type": "execute_result"
    }
   ],
   "source": [
    "len(possible_cuts)"
   ]
  },
  {
   "cell_type": "code",
   "execution_count": 10,
   "id": "79036d11",
   "metadata": {},
   "outputs": [],
   "source": [
    "cut_produced_quantities = {}\n",
    "for i, cut in enumerate(possible_cuts):\n",
    "    for j, length in enumerate(needed_lengths):\n",
    "        cut_produced_quantities[i, j] = cut.count(length)\n",
    "        \n",
    "cut_wastes = {}\n",
    "for i, cut in enumerate(possible_cuts):\n",
    "    waste = base_length - sum(cut)    \n",
    "    cut_wastes[i] = waste"
   ]
  },
  {
   "cell_type": "code",
   "execution_count": 11,
   "id": "11025a09",
   "metadata": {},
   "outputs": [],
   "source": [
    "model = cp_model.CpModel()\n",
    "naive_max_cuts = sum(needed_quantities)\n",
    "\n",
    "cut_vars = {}\n",
    "for i, cut in enumerate(possible_cuts):\n",
    "    cut_vars[i] = model.NewIntVar(0, naive_max_cuts, f\"Cut according to rule {cut}\")\n",
    "\n",
    "for (j, length), needed in zip(enumerate(needed_lengths), needed_quantities): \n",
    "    cut_sums = []\n",
    "    for i, cut in enumerate(possible_cuts):\n",
    "        cut_sums.append(cut_vars[i] * cut_produced_quantities[i, j])\n",
    "        \n",
    "    model.Add(sum(cut_sums) >= needed)\n",
    "    \n",
    "# Let's minimize the cut wastest\n",
    "total_cut_waste = sum(\n",
    "    cut_vars[i] * cut_wastes[i] for i, _ in enumerate(possible_cuts)\n",
    ")\n",
    "model.Minimize(total_cut_waste)"
   ]
  },
  {
   "cell_type": "code",
   "execution_count": 12,
   "id": "b970344f",
   "metadata": {},
   "outputs": [],
   "source": [
    "solver = cp_model.CpSolver()\n",
    "status = solver.Solve(model)"
   ]
  },
  {
   "cell_type": "code",
   "execution_count": 13,
   "id": "43ea1c05",
   "metadata": {},
   "outputs": [
    {
     "name": "stdout",
     "output_type": "stream",
     "text": [
      "CpSolverResponse summary:\n",
      "status: OPTIMAL\n",
      "objective: 699\n",
      "best_bound: 699\n",
      "booleans: 600\n",
      "conflicts: 65\n",
      "branches: 1317\n",
      "propagations: 817\n",
      "integer_propagations: 38955\n",
      "restarts: 4\n",
      "lp_iterations: 0\n",
      "walltime: 0.0898626\n",
      "usertime: 0.0898629\n",
      "deterministic_time: 0.00534172\n",
      "gap_integral: 0.0362175\n",
      "\n"
     ]
    }
   ],
   "source": [
    "print(solver.ResponseStats())"
   ]
  },
  {
   "cell_type": "code",
   "execution_count": 14,
   "id": "da5f1ee4",
   "metadata": {},
   "outputs": [],
   "source": [
    "solution_df = []\n",
    "\n",
    "for i, var in cut_vars.items():\n",
    "#     if not solver.Value(var):\n",
    "#         continue\n",
    "    \n",
    "    solution_df.append(\n",
    "        {\n",
    "            \"cut\": possible_cuts[i],\n",
    "            \"cut_idx\": i,\n",
    "            \"number\": solver.Value(var),\n",
    "        }\n",
    "    )\n",
    "solution_df = pd.DataFrame(solution_df)\n",
    "solution_df[\"waste\"] = solution_df[\"cut_idx\"].apply(cut_wastes.get)\n",
    "solution_df[\"total_waste\"] = solution_df[\"waste\"] * solution_df[\"number\"]"
   ]
  },
  {
   "cell_type": "code",
   "execution_count": 18,
   "id": "184e04ce",
   "metadata": {
    "scrolled": true
   },
   "outputs": [
    {
     "data": {
      "text/html": [
       "<div>\n",
       "<style scoped>\n",
       "    .dataframe tbody tr th:only-of-type {\n",
       "        vertical-align: middle;\n",
       "    }\n",
       "\n",
       "    .dataframe tbody tr th {\n",
       "        vertical-align: top;\n",
       "    }\n",
       "\n",
       "    .dataframe thead th {\n",
       "        text-align: right;\n",
       "    }\n",
       "</style>\n",
       "<table border=\"1\" class=\"dataframe\">\n",
       "  <thead>\n",
       "    <tr style=\"text-align: right;\">\n",
       "      <th></th>\n",
       "      <th>cut</th>\n",
       "      <th>cut_idx</th>\n",
       "      <th>number</th>\n",
       "      <th>waste</th>\n",
       "      <th>total_waste</th>\n",
       "    </tr>\n",
       "  </thead>\n",
       "  <tbody>\n",
       "    <tr>\n",
       "      <th>7</th>\n",
       "      <td>(240,)</td>\n",
       "      <td>7</td>\n",
       "      <td>232</td>\n",
       "      <td>0</td>\n",
       "      <td>0</td>\n",
       "    </tr>\n",
       "    <tr>\n",
       "      <th>61</th>\n",
       "      <td>(69, 168)</td>\n",
       "      <td>61</td>\n",
       "      <td>16</td>\n",
       "      <td>3</td>\n",
       "      <td>48</td>\n",
       "    </tr>\n",
       "    <tr>\n",
       "      <th>111</th>\n",
       "      <td>(54, 184)</td>\n",
       "      <td>111</td>\n",
       "      <td>6</td>\n",
       "      <td>2</td>\n",
       "      <td>12</td>\n",
       "    </tr>\n",
       "    <tr>\n",
       "      <th>213</th>\n",
       "      <td>(30, 162, 45)</td>\n",
       "      <td>213</td>\n",
       "      <td>8</td>\n",
       "      <td>3</td>\n",
       "      <td>24</td>\n",
       "    </tr>\n",
       "    <tr>\n",
       "      <th>235</th>\n",
       "      <td>(66, 69, 103)</td>\n",
       "      <td>235</td>\n",
       "      <td>2</td>\n",
       "      <td>2</td>\n",
       "      <td>4</td>\n",
       "    </tr>\n",
       "    <tr>\n",
       "      <th>246</th>\n",
       "      <td>(66, 127, 45)</td>\n",
       "      <td>246</td>\n",
       "      <td>45</td>\n",
       "      <td>2</td>\n",
       "      <td>90</td>\n",
       "    </tr>\n",
       "    <tr>\n",
       "      <th>257</th>\n",
       "      <td>(66, 64, 108)</td>\n",
       "      <td>257</td>\n",
       "      <td>16</td>\n",
       "      <td>2</td>\n",
       "      <td>32</td>\n",
       "    </tr>\n",
       "    <tr>\n",
       "      <th>275</th>\n",
       "      <td>(69, 116, 54)</td>\n",
       "      <td>275</td>\n",
       "      <td>8</td>\n",
       "      <td>1</td>\n",
       "      <td>8</td>\n",
       "    </tr>\n",
       "    <tr>\n",
       "      <th>302</th>\n",
       "      <td>(96, 96, 45)</td>\n",
       "      <td>302</td>\n",
       "      <td>2</td>\n",
       "      <td>3</td>\n",
       "      <td>6</td>\n",
       "    </tr>\n",
       "    <tr>\n",
       "      <th>310</th>\n",
       "      <td>(120, 54, 64)</td>\n",
       "      <td>310</td>\n",
       "      <td>48</td>\n",
       "      <td>2</td>\n",
       "      <td>96</td>\n",
       "    </tr>\n",
       "    <tr>\n",
       "      <th>358</th>\n",
       "      <td>(30, 30, 30, 148)</td>\n",
       "      <td>358</td>\n",
       "      <td>6</td>\n",
       "      <td>2</td>\n",
       "      <td>12</td>\n",
       "    </tr>\n",
       "    <tr>\n",
       "      <th>398</th>\n",
       "      <td>(30, 30, 132, 45)</td>\n",
       "      <td>398</td>\n",
       "      <td>88</td>\n",
       "      <td>3</td>\n",
       "      <td>264</td>\n",
       "    </tr>\n",
       "    <tr>\n",
       "      <th>472</th>\n",
       "      <td>(66, 64, 64, 45)</td>\n",
       "      <td>472</td>\n",
       "      <td>80</td>\n",
       "      <td>1</td>\n",
       "      <td>80</td>\n",
       "    </tr>\n",
       "    <tr>\n",
       "      <th>521</th>\n",
       "      <td>(30, 30, 30, 69, 80)</td>\n",
       "      <td>521</td>\n",
       "      <td>23</td>\n",
       "      <td>1</td>\n",
       "      <td>23</td>\n",
       "    </tr>\n",
       "  </tbody>\n",
       "</table>\n",
       "</div>"
      ],
      "text/plain": [
       "                      cut  cut_idx  number  waste  total_waste\n",
       "7                  (240,)        7     232      0            0\n",
       "61              (69, 168)       61      16      3           48\n",
       "111             (54, 184)      111       6      2           12\n",
       "213         (30, 162, 45)      213       8      3           24\n",
       "235         (66, 69, 103)      235       2      2            4\n",
       "246         (66, 127, 45)      246      45      2           90\n",
       "257         (66, 64, 108)      257      16      2           32\n",
       "275         (69, 116, 54)      275       8      1            8\n",
       "302          (96, 96, 45)      302       2      3            6\n",
       "310         (120, 54, 64)      310      48      2           96\n",
       "358     (30, 30, 30, 148)      358       6      2           12\n",
       "398     (30, 30, 132, 45)      398      88      3          264\n",
       "472      (66, 64, 64, 45)      472      80      1           80\n",
       "521  (30, 30, 30, 69, 80)      521      23      1           23"
      ]
     },
     "execution_count": 18,
     "metadata": {},
     "output_type": "execute_result"
    }
   ],
   "source": [
    "solution_df[solution_df[\"number\"] > 0]"
   ]
  },
  {
   "cell_type": "code",
   "execution_count": 21,
   "id": "f1ba724c",
   "metadata": {},
   "outputs": [],
   "source": [
    "total_waste = solution_df[\"total_waste\"].sum()\n",
    "total_length_needed = np.sum(df[\"length\"] * df[\"quantity\"])"
   ]
  },
  {
   "cell_type": "code",
   "execution_count": 29,
   "id": "70ca2685",
   "metadata": {},
   "outputs": [
    {
     "name": "stdout",
     "output_type": "stream",
     "text": [
      "We are 99.37% efficient\n"
     ]
    }
   ],
   "source": [
    "print(f\"We are {(1 - total_waste / total_length_needed)*100:.2f}% efficient\")"
   ]
  },
  {
   "cell_type": "code",
   "execution_count": null,
   "id": "10d59e1c",
   "metadata": {},
   "outputs": [],
   "source": []
  },
  {
   "cell_type": "code",
   "execution_count": null,
   "id": "37d9f746",
   "metadata": {},
   "outputs": [],
   "source": []
  }
 ],
 "metadata": {
  "kernelspec": {
   "display_name": "Python 3 (ipykernel)",
   "language": "python",
   "name": "python3"
  },
  "language_info": {
   "codemirror_mode": {
    "name": "ipython",
    "version": 3
   },
   "file_extension": ".py",
   "mimetype": "text/x-python",
   "name": "python",
   "nbconvert_exporter": "python",
   "pygments_lexer": "ipython3",
   "version": "3.9.12"
  }
 },
 "nbformat": 4,
 "nbformat_minor": 5
}
