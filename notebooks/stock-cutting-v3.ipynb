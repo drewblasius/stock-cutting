{
 "cells": [
  {
   "cell_type": "code",
   "execution_count": 1,
   "id": "2947d6f5",
   "metadata": {},
   "outputs": [],
   "source": [
    "import math\n",
    "import numpy as np\n",
    "import pandas as pd\n",
    "import ortools\n",
    "import itertools\n",
    "\n",
    "from typing import Generator, List, Tuple"
   ]
  },
  {
   "cell_type": "code",
   "execution_count": 2,
   "id": "c569909f",
   "metadata": {},
   "outputs": [],
   "source": [
    "# look at all possible cut assignments that result in the needed quantities\n",
    "#   minimize over all of the cut assignments\n",
    "from ortools.sat.python import cp_model\n"
   ]
  },
  {
   "cell_type": "code",
   "execution_count": 3,
   "id": "35602e8b",
   "metadata": {},
   "outputs": [],
   "source": [
    "fn = \"./#5 Consolidated.csv\""
   ]
  },
  {
   "cell_type": "code",
   "execution_count": 4,
   "id": "fce8c9f7",
   "metadata": {},
   "outputs": [],
   "source": [
    "df = pd.read_csv(fn, header=None)\n",
    "df.columns = [\"length\", \"quantity\"]\n",
    "\n",
    "base_length = 240\n",
    "waste_tolerance = 0\n",
    "\n",
    "exact_cuts = df[df[\"length\"] == base_length].copy()\n",
    "\n",
    "# df = df[df[\"length\"] < base_length]\n",
    "needed_lengths = df[\"length\"].values\n",
    "needed_quantities = df[\"quantity\"].values\n",
    "\n",
    "# We expect to be allowed to make cuts\n",
    "# \n",
    "# allowed_cuts = [\n",
    "#   (3,), (3, 3,), (3, 3, 3,), (3, 5,), (5,), (5, 3,), (5, 5,), (8,),\n",
    "# ]"
   ]
  },
  {
   "cell_type": "code",
   "execution_count": 5,
   "id": "4533e777",
   "metadata": {},
   "outputs": [
    {
     "data": {
      "text/plain": [
       "19"
      ]
     },
     "execution_count": 5,
     "metadata": {},
     "output_type": "execute_result"
    }
   ],
   "source": [
    "len(df)"
   ]
  },
  {
   "cell_type": "code",
   "execution_count": 6,
   "id": "56636ee4",
   "metadata": {},
   "outputs": [
    {
     "data": {
      "text/plain": [
       "976"
      ]
     },
     "execution_count": 6,
     "metadata": {},
     "output_type": "execute_result"
    }
   ],
   "source": [
    "df[\"quantity\"].sum()"
   ]
  },
  {
   "cell_type": "code",
   "execution_count": 7,
   "id": "c50f3917",
   "metadata": {},
   "outputs": [
    {
     "data": {
      "text/html": [
       "<div>\n",
       "<style scoped>\n",
       "    .dataframe tbody tr th:only-of-type {\n",
       "        vertical-align: middle;\n",
       "    }\n",
       "\n",
       "    .dataframe tbody tr th {\n",
       "        vertical-align: top;\n",
       "    }\n",
       "\n",
       "    .dataframe thead th {\n",
       "        text-align: right;\n",
       "    }\n",
       "</style>\n",
       "<table border=\"1\" class=\"dataframe\">\n",
       "  <thead>\n",
       "    <tr style=\"text-align: right;\">\n",
       "      <th></th>\n",
       "      <th>length</th>\n",
       "      <th>quantity</th>\n",
       "    </tr>\n",
       "  </thead>\n",
       "  <tbody>\n",
       "    <tr>\n",
       "      <th>7</th>\n",
       "      <td>240</td>\n",
       "      <td>232</td>\n",
       "    </tr>\n",
       "    <tr>\n",
       "      <th>13</th>\n",
       "      <td>184</td>\n",
       "      <td>6</td>\n",
       "    </tr>\n",
       "    <tr>\n",
       "      <th>11</th>\n",
       "      <td>168</td>\n",
       "      <td>16</td>\n",
       "    </tr>\n",
       "    <tr>\n",
       "      <th>12</th>\n",
       "      <td>162</td>\n",
       "      <td>8</td>\n",
       "    </tr>\n",
       "    <tr>\n",
       "      <th>14</th>\n",
       "      <td>148</td>\n",
       "      <td>6</td>\n",
       "    </tr>\n",
       "    <tr>\n",
       "      <th>10</th>\n",
       "      <td>132</td>\n",
       "      <td>88</td>\n",
       "    </tr>\n",
       "    <tr>\n",
       "      <th>6</th>\n",
       "      <td>127</td>\n",
       "      <td>45</td>\n",
       "    </tr>\n",
       "    <tr>\n",
       "      <th>5</th>\n",
       "      <td>120</td>\n",
       "      <td>48</td>\n",
       "    </tr>\n",
       "    <tr>\n",
       "      <th>8</th>\n",
       "      <td>116</td>\n",
       "      <td>8</td>\n",
       "    </tr>\n",
       "    <tr>\n",
       "      <th>17</th>\n",
       "      <td>108</td>\n",
       "      <td>16</td>\n",
       "    </tr>\n",
       "    <tr>\n",
       "      <th>15</th>\n",
       "      <td>103</td>\n",
       "      <td>2</td>\n",
       "    </tr>\n",
       "    <tr>\n",
       "      <th>4</th>\n",
       "      <td>96</td>\n",
       "      <td>4</td>\n",
       "    </tr>\n",
       "    <tr>\n",
       "      <th>3</th>\n",
       "      <td>80</td>\n",
       "      <td>23</td>\n",
       "    </tr>\n",
       "    <tr>\n",
       "      <th>2</th>\n",
       "      <td>69</td>\n",
       "      <td>33</td>\n",
       "    </tr>\n",
       "    <tr>\n",
       "      <th>1</th>\n",
       "      <td>66</td>\n",
       "      <td>143</td>\n",
       "    </tr>\n",
       "    <tr>\n",
       "      <th>16</th>\n",
       "      <td>64</td>\n",
       "      <td>4</td>\n",
       "    </tr>\n",
       "    <tr>\n",
       "      <th>9</th>\n",
       "      <td>54</td>\n",
       "      <td>8</td>\n",
       "    </tr>\n",
       "    <tr>\n",
       "      <th>18</th>\n",
       "      <td>45</td>\n",
       "      <td>16</td>\n",
       "    </tr>\n",
       "    <tr>\n",
       "      <th>0</th>\n",
       "      <td>30</td>\n",
       "      <td>270</td>\n",
       "    </tr>\n",
       "  </tbody>\n",
       "</table>\n",
       "</div>"
      ],
      "text/plain": [
       "    length  quantity\n",
       "7      240       232\n",
       "13     184         6\n",
       "11     168        16\n",
       "12     162         8\n",
       "14     148         6\n",
       "10     132        88\n",
       "6      127        45\n",
       "5      120        48\n",
       "8      116         8\n",
       "17     108        16\n",
       "15     103         2\n",
       "4       96         4\n",
       "3       80        23\n",
       "2       69        33\n",
       "1       66       143\n",
       "16      64         4\n",
       "9       54         8\n",
       "18      45        16\n",
       "0       30       270"
      ]
     },
     "execution_count": 7,
     "metadata": {},
     "output_type": "execute_result"
    }
   ],
   "source": [
    "df.sort_values(\"length\", ascending=False)"
   ]
  },
  {
   "cell_type": "code",
   "execution_count": 8,
   "id": "a11151ac",
   "metadata": {},
   "outputs": [],
   "source": [
    "def get_possible_cuts(needed_lengths: List[int], base_length: int, tolerance_per_cut: float = 0) -> Generator:\n",
    "    \n",
    "    # Establish a bound on the number of combinations that we need\n",
    "    max_combinations = math.floor(base_length / min(needed_lengths))\n",
    "\n",
    "    for i in range(1, max_combinations + 1):\n",
    "        for comb in itertools.combinations_with_replacement(needed_lengths, i):\n",
    "            waste = len(comb) * tolerance_per_cut\n",
    "            if len(comb) == 1 and comb[0] == base_length:\n",
    "                yield comb\n",
    "                continue\n",
    "                \n",
    "            if sum(comb) <= base_length - waste:\n",
    "                yield comb"
   ]
  },
  {
   "cell_type": "code",
   "execution_count": 9,
   "id": "ef87abe9",
   "metadata": {},
   "outputs": [],
   "source": [
    "possible_cuts = list(\n",
    "    get_possible_cuts(needed_lengths, base_length, tolerance_per_cut=0)\n",
    ")"
   ]
  },
  {
   "cell_type": "code",
   "execution_count": 10,
   "id": "b483be1d",
   "metadata": {},
   "outputs": [
    {
     "data": {
      "text/plain": [
       "605"
      ]
     },
     "execution_count": 10,
     "metadata": {},
     "output_type": "execute_result"
    }
   ],
   "source": [
    "len(possible_cuts)"
   ]
  },
  {
   "cell_type": "code",
   "execution_count": 11,
   "id": "79036d11",
   "metadata": {},
   "outputs": [],
   "source": [
    "cut_produced_quantities = {}\n",
    "for i, cut in enumerate(possible_cuts):\n",
    "    for j, length in enumerate(needed_lengths):\n",
    "        cut_produced_quantities[i, j] = cut.count(length)\n",
    "        \n",
    "cut_wastes = {}\n",
    "for i, cut in enumerate(possible_cuts):\n",
    "    waste = base_length - sum(cut)    \n",
    "    cut_wastes[i] = waste + .0001"
   ]
  },
  {
   "cell_type": "code",
   "execution_count": 12,
   "id": "11025a09",
   "metadata": {},
   "outputs": [],
   "source": [
    "model = cp_model.CpModel()\n",
    "naive_max_cuts = max(needed_quantities)\n",
    "\n",
    "cut_vars = {}\n",
    "for i, cut in enumerate(possible_cuts):\n",
    "    cut_vars[i] = model.NewIntVar(0, naive_max_cuts, f\"Cut according to rule {cut}\")\n",
    "\n",
    "for (j, length), needed in zip(enumerate(needed_lengths), needed_quantities): \n",
    "    cut_sums = []\n",
    "    for i, cut in enumerate(possible_cuts):\n",
    "        cut_sums.append(cut_vars[i] * cut_produced_quantities[i, j])\n",
    "        \n",
    "    model.Add(sum(cut_sums) == needed)\n",
    "    \n",
    "# Let's minimize the cut wastest\n",
    "total_cut_waste = sum(\n",
    "    cut_vars[i] * cut_wastes[i] for i, _ in enumerate(possible_cuts)\n",
    ")\n",
    "model.Minimize(total_cut_waste)"
   ]
  },
  {
   "cell_type": "code",
   "execution_count": 13,
   "id": "b970344f",
   "metadata": {},
   "outputs": [],
   "source": [
    "solver = cp_model.CpSolver()\n",
    "status = solver.Solve(model)"
   ]
  },
  {
   "cell_type": "code",
   "execution_count": 26,
   "id": "97f68f47",
   "metadata": {},
   "outputs": [
    {
     "data": {
      "text/plain": [
       "'OPTIMAL'"
      ]
     },
     "execution_count": 26,
     "metadata": {},
     "output_type": "execute_result"
    }
   ],
   "source": [
    "solver.StatusName()"
   ]
  },
  {
   "cell_type": "code",
   "execution_count": 27,
   "id": "b10f72af",
   "metadata": {},
   "outputs": [
    {
     "data": {
      "text/plain": [
       "4"
      ]
     },
     "execution_count": 27,
     "metadata": {},
     "output_type": "execute_result"
    }
   ],
   "source": [
    "status"
   ]
  },
  {
   "cell_type": "code",
   "execution_count": 14,
   "id": "43ea1c05",
   "metadata": {},
   "outputs": [
    {
     "name": "stdout",
     "output_type": "stream",
     "text": [
      "CpSolverResponse summary:\n",
      "status: OPTIMAL\n",
      "objective: 1504.0469\n",
      "best_bound: 1504.0469\n",
      "booleans: 107\n",
      "conflicts: 121\n",
      "branches: 223\n",
      "propagations: 925\n",
      "integer_propagations: 21401\n",
      "restarts: 15\n",
      "lp_iterations: 0\n",
      "walltime: 0.101831\n",
      "usertime: 0.101831\n",
      "deterministic_time: 0.0105985\n",
      "gap_integral: 0.0686026\n",
      "\n"
     ]
    }
   ],
   "source": [
    "print(solver.ResponseStats())"
   ]
  },
  {
   "cell_type": "code",
   "execution_count": 15,
   "id": "da5f1ee4",
   "metadata": {},
   "outputs": [],
   "source": [
    "solution_df = []\n",
    "for i, var in cut_vars.items():\n",
    "    solution_df.append(\n",
    "        {\n",
    "            \"cut\": possible_cuts[i],\n",
    "            \"cut_idx\": i,\n",
    "            \"number\": solver.Value(var),\n",
    "        }\n",
    "    )\n",
    "solution_df = pd.DataFrame(solution_df)\n",
    "solution_df[\"waste\"] = solution_df[\"cut_idx\"].apply(cut_wastes.get)\n",
    "solution_df[\"total_waste\"] = solution_df[\"waste\"] * solution_df[\"number\"]\n",
    "\n",
    "confirmed_counts = {}\n",
    "# confirm that we didn't fuck it\n",
    "for i, var in cut_vars.items():\n",
    "    for j, length in enumerate(needed_lengths):\n",
    "        confirmed_counts[length] = confirmed_counts.get(length, 0) + cut_produced_quantities[i, j] * solver.Value(var)\n",
    "        \n",
    "confirmed_counts_df = pd.DataFrame(\n",
    "    [{\"length\": length, \"quantity\": quantity} for length, quantity in confirmed_counts.items()]\n",
    ")"
   ]
  },
  {
   "cell_type": "code",
   "execution_count": 16,
   "id": "f2e26ecf",
   "metadata": {},
   "outputs": [],
   "source": [
    "confirmatory_df = df.merge(\n",
    "    confirmed_counts_df,\n",
    "    how=\"left\",\n",
    "    on=\"length\",\n",
    "    suffixes=[\"\", \"_produced_by_algorithm\"],\n",
    ")\n",
    "\n",
    "assert (confirmatory_df[\"quantity\"] == confirmatory_df[\"quantity_produced_by_algorithm\"]).all()"
   ]
  },
  {
   "cell_type": "code",
   "execution_count": 17,
   "id": "f1ba724c",
   "metadata": {},
   "outputs": [],
   "source": [
    "total_waste = solution_df[\"total_waste\"].sum()\n",
    "total_length_needed = np.sum(df[\"length\"] * df[\"quantity\"])"
   ]
  },
  {
   "cell_type": "code",
   "execution_count": 18,
   "id": "1964096c",
   "metadata": {},
   "outputs": [
    {
     "data": {
      "text/plain": [
       "1504.0469"
      ]
     },
     "execution_count": 18,
     "metadata": {},
     "output_type": "execute_result"
    }
   ],
   "source": [
    "total_waste"
   ]
  },
  {
   "cell_type": "code",
   "execution_count": 19,
   "id": "b5a90e0d",
   "metadata": {},
   "outputs": [
    {
     "data": {
      "text/plain": [
       "469"
      ]
     },
     "execution_count": 19,
     "metadata": {},
     "output_type": "execute_result"
    }
   ],
   "source": [
    "solution_df[\"number\"].sum()"
   ]
  },
  {
   "cell_type": "code",
   "execution_count": 20,
   "id": "01456fce",
   "metadata": {},
   "outputs": [],
   "source": [
    "efficiency = 1 - total_waste / total_length_needed"
   ]
  },
  {
   "cell_type": "code",
   "execution_count": 21,
   "id": "70ca2685",
   "metadata": {},
   "outputs": [
    {
     "name": "stdout",
     "output_type": "stream",
     "text": [
      "We are 98.65% efficient\n"
     ]
    }
   ],
   "source": [
    "print(f\"We are {efficiency *100:.2f}% efficient\")"
   ]
  },
  {
   "cell_type": "code",
   "execution_count": 22,
   "id": "10d59e1c",
   "metadata": {},
   "outputs": [],
   "source": [
    "# Let's model this using a simple heuristic"
   ]
  },
  {
   "cell_type": "code",
   "execution_count": 23,
   "id": "db9ce9d0",
   "metadata": {},
   "outputs": [],
   "source": [
    "solved_fn = fn.replace(\".csv\", \"-solved.csv\")"
   ]
  },
  {
   "cell_type": "code",
   "execution_count": 24,
   "id": "37d9f746",
   "metadata": {},
   "outputs": [
    {
     "name": "stdout",
     "output_type": "stream",
     "text": [
      "wrote to ./#5 Consolidated-solved.csv\n"
     ]
    }
   ],
   "source": [
    "solution_df.to_csv(solved_fn)\n",
    "print(f\"wrote to {solved_fn}\")"
   ]
  },
  {
   "cell_type": "code",
   "execution_count": null,
   "id": "d0027f4d",
   "metadata": {},
   "outputs": [],
   "source": []
  }
 ],
 "metadata": {
  "kernelspec": {
   "display_name": "Python 3 (ipykernel)",
   "language": "python",
   "name": "python3"
  },
  "language_info": {
   "codemirror_mode": {
    "name": "ipython",
    "version": 3
   },
   "file_extension": ".py",
   "mimetype": "text/x-python",
   "name": "python",
   "nbconvert_exporter": "python",
   "pygments_lexer": "ipython3",
   "version": "3.9.12"
  }
 },
 "nbformat": 4,
 "nbformat_minor": 5
}
