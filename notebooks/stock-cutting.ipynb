{
 "cells": [
  {
   "cell_type": "code",
   "execution_count": 40,
   "id": "2947d6f5",
   "metadata": {},
   "outputs": [],
   "source": [
    "import math\n",
    "import numpy as np\n",
    "import ortools\n",
    "import itertools\n",
    "\n",
    "from typing import Generator, List, Tuple"
   ]
  },
  {
   "cell_type": "code",
   "execution_count": 68,
   "id": "c569909f",
   "metadata": {},
   "outputs": [],
   "source": [
    "# look at all possible cut assignments that result in the needed quantities\n",
    "#   minimize over all of the cut assignments\n",
    "from ortools.sat.python import cp_model\n"
   ]
  },
  {
   "cell_type": "code",
   "execution_count": 47,
   "id": "e5bed41d",
   "metadata": {},
   "outputs": [],
   "source": [
    "# Toy problem:\n",
    "needed_lengths = [3, 5, 8]\n",
    "needed_quantities = [1, 2, 1]\n",
    "base_length = 10\n",
    "\n",
    "# We expect to be allowed to make cuts\n",
    "# \n",
    "# allowed_cuts = [\n",
    "#   (3,), (3, 3,), (3, 3, 3,), (3, 5,), (5,), (5, 3,), (5, 5,), (8,),\n",
    "# ]"
   ]
  },
  {
   "cell_type": "code",
   "execution_count": 48,
   "id": "a11151ac",
   "metadata": {},
   "outputs": [],
   "source": [
    "def get_possible_cuts(needed_lengths: List[int], base_length: int) -> Generator:\n",
    "    \n",
    "    # Establish a bound on the number of combinations that we need\n",
    "    max_combinations = math.floor(base_length / min(needed_lengths))\n",
    "\n",
    "    for i in range(1, max_combinations + 1):\n",
    "        for comb in itertools.combinations_with_replacement(needed_lengths, i):\n",
    "            if sum(comb) <= base_length:\n",
    "                yield comb"
   ]
  },
  {
   "cell_type": "code",
   "execution_count": 49,
   "id": "7e8e8cee",
   "metadata": {},
   "outputs": [],
   "source": [
    "possible_cuts = list(\n",
    "    get_possible_cuts(needed_lengths, base_length)\n",
    ")"
   ]
  },
  {
   "cell_type": "code",
   "execution_count": 85,
   "id": "79036d11",
   "metadata": {},
   "outputs": [],
   "source": [
    "cut_produced_quantities = {}\n",
    "for i, cut in enumerate(possible_cuts):\n",
    "    for j, length in enumerate(needed_lengths):\n",
    "        cut_produced_quantities[i, j] = cut.count(length)\n",
    "        \n",
    "cut_wastes = {}\n",
    "for i, cut in enumerate(possible_cuts):\n",
    "    cut_wastes[i] = base_length - sum(cut)"
   ]
  },
  {
   "cell_type": "code",
   "execution_count": 98,
   "id": "11025a09",
   "metadata": {},
   "outputs": [],
   "source": [
    "model = cp_model.CpModel()\n",
    "naive_max_cuts = sum(needed_quantities)\n",
    "\n",
    "cut_vars = {}\n",
    "for i, cut in enumerate(possible_cuts):\n",
    "    cut_vars[i] = model.NewIntVar(0, naive_max_cuts, f\"Cut according to rule {cut}\")\n",
    "\n",
    "for (j, length), needed in zip(enumerate(needed_lengths), needed_quantities): \n",
    "    cut_sums = []\n",
    "    for i, cut in enumerate(possible_cuts):\n",
    "        cut_sums.append(cut_vars[i] * cut_produced_quantities[i, j])\n",
    "    model.Add(sum(cut_sums) == needed)\n",
    "    \n",
    "# Let's minimize the cut wastest\n",
    "total_cut_waste = sum(\n",
    "    cut_vars[i] * cut_wastes[i] for i, _ in enumerate(possible_cuts)\n",
    ")\n",
    "model.Minimize(total_cut_waste)"
   ]
  },
  {
   "cell_type": "code",
   "execution_count": 99,
   "id": "b970344f",
   "metadata": {},
   "outputs": [],
   "source": [
    "solver = cp_model.CpSolver()\n",
    "status = solver.Solve(model)"
   ]
  },
  {
   "cell_type": "code",
   "execution_count": 101,
   "id": "da5f1ee4",
   "metadata": {},
   "outputs": [
    {
     "name": "stdout",
     "output_type": "stream",
     "text": [
      "(3,) 0\n",
      "(5,) 1\n",
      "(8,) 1\n",
      "(3, 3) 0\n",
      "(3, 5) 1\n",
      "(5, 5) 0\n",
      "(3, 3, 3) 0\n"
     ]
    }
   ],
   "source": [
    "for i, var in cut_vars.items():\n",
    "    print(possible_cuts[i], solver.Value(var))"
   ]
  },
  {
   "cell_type": "code",
   "execution_count": null,
   "id": "10d59e1c",
   "metadata": {},
   "outputs": [],
   "source": []
  },
  {
   "cell_type": "code",
   "execution_count": null,
   "id": "37d9f746",
   "metadata": {},
   "outputs": [],
   "source": []
  }
 ],
 "metadata": {
  "kernelspec": {
   "display_name": "Python 3 (ipykernel)",
   "language": "python",
   "name": "python3"
  },
  "language_info": {
   "codemirror_mode": {
    "name": "ipython",
    "version": 3
   },
   "file_extension": ".py",
   "mimetype": "text/x-python",
   "name": "python",
   "nbconvert_exporter": "python",
   "pygments_lexer": "ipython3",
   "version": "3.9.12"
  }
 },
 "nbformat": 4,
 "nbformat_minor": 5
}
